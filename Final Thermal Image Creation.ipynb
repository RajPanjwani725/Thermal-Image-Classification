{
 "cells": [
  {
   "cell_type": "code",
   "execution_count": 1,
   "id": "9ec13d5f",
   "metadata": {},
   "outputs": [],
   "source": [
    "import numpy as np\n",
    "import numpy as np\n",
    "import matplotlib.pyplot as plt\n",
    "import matplotlib as mpl\n",
    "import matplotlib.cm as mtpltcm\n",
    "import os\n",
    "import sys\n",
    "import cv2\n",
    "import random"
   ]
  },
  {
   "cell_type": "code",
   "execution_count": null,
   "id": "e2a32d92",
   "metadata": {},
   "outputs": [],
   "source": []
  },
  {
   "cell_type": "code",
   "execution_count": 3,
   "id": "c8fc98bb",
   "metadata": {},
   "outputs": [
    {
     "name": "stdout",
     "output_type": "stream",
     "text": [
      "C:\\Users\\Lenovo\\Downloads\\Tareq\\AIDI Final Project\\Process Thermal Images\n"
     ]
    }
   ],
   "source": [
    "write_folder_path=\"C:\\\\Users\\\\Lenovo\\\\Downloads\\\\Tareq\\\\AIDI Final Project\\\\Process Thermal Images\\\\\"\n",
    "DATADIR='C:\\\\Users\\\\Lenovo\\\\Downloads\\\\Tareq\\\\AIDI Final Project\\\\Normal Images'\n",
    "CATEGORIES=['chair','humans','bed','sofa','table']\n",
    "\n",
    "script_path = os.path.realpath(write_folder_path)\n",
    "print(script_path)"
   ]
  },
  {
   "cell_type": "code",
   "execution_count": null,
   "id": "be4020ad",
   "metadata": {},
   "outputs": [],
   "source": []
  },
  {
   "cell_type": "code",
   "execution_count": 6,
   "id": "3a87ecfd",
   "metadata": {},
   "outputs": [],
   "source": [
    "# SAVING AND CONVERTING IMAGES TO THERMAL"
   ]
  },
  {
   "cell_type": "code",
   "execution_count": 5,
   "id": "902203e5",
   "metadata": {},
   "outputs": [],
   "source": [
    "# write_folder_path=\"C:/Users/User/Documents/AIDI_SEM-2/Project/Fire Man Project/Thermal Image_2/\"\n",
    "# DATADIR='C:/Users/User/Documents/AIDI_SEM-2/Project/Data/'\n",
    "# CATEGORIES=['chair','humans','bed','sofa','table']\n",
    "script_path = os.path.realpath(write_folder_path)\n",
    "\n",
    "for category in CATEGORIES:\n",
    "    path=os.path.join(DATADIR,category) # PAth to cats and Dogs\n",
    "#     print(os.path.join(DATADIR,category))\n",
    "#     print(os.listdir(path))\n",
    "    count=1\n",
    "    for img in os.listdir(path):         \n",
    "        img_array=cv2.imread(os.path.join(path,img))       \n",
    "        colormap = mpl.cm.jet\n",
    "        cNorm = mpl.colors.Normalize(vmin=0, vmax=255)\n",
    "        scalarMap = mtpltcm.ScalarMappable(norm=cNorm, cmap=colormap)\n",
    "        gray = cv2.cvtColor(img_array, cv2.COLOR_BGR2GRAY)\n",
    "        #add blur to make it more realistic\n",
    "#         blur = cv2.GaussianBlur(gray,(15,15),0)\n",
    "        #assign colormap\n",
    "        colors = scalarMap.to_rgba(gray, bytes=False)\n",
    "#         -----------------Write  Image---------------------       \n",
    "        script_path = os.path.realpath(write_folder_path)\n",
    "#         print(script_path)\n",
    "        new_abs_path = os.path.join(script_path, category)  \n",
    "#         print(new_abs_path)\n",
    "        if not os.path.exists(new_abs_path):\n",
    "            os.mkdir(new_abs_path)\n",
    "        else:\n",
    "#             img = colors.reshape((500, 500, 3))            \n",
    "            file_name=category+\"_\"+str(count)+\".jpg\"\n",
    "#             plt.imsave()\n",
    "            cv2.imwrite(os.path.join(new_abs_path , file_name), colors*225)       \n",
    "            count=count+1\n",
    "        "
   ]
  },
  {
   "cell_type": "code",
   "execution_count": null,
   "id": "7ae0fae9",
   "metadata": {},
   "outputs": [],
   "source": []
  }
 ],
 "metadata": {
  "kernelspec": {
   "display_name": "Python 3 (ipykernel)",
   "language": "python",
   "name": "python3"
  },
  "language_info": {
   "codemirror_mode": {
    "name": "ipython",
    "version": 3
   },
   "file_extension": ".py",
   "mimetype": "text/x-python",
   "name": "python",
   "nbconvert_exporter": "python",
   "pygments_lexer": "ipython3",
   "version": "3.7.4"
  }
 },
 "nbformat": 4,
 "nbformat_minor": 5
}
